{
  "nbformat": 4,
  "nbformat_minor": 0,
  "metadata": {
    "colab": {
      "name": "trying_propher_Game_Analytics.ipynb",
      "provenance": [],
      "authorship_tag": "ABX9TyPK5/QiS14Tkialek6r99h4",
      "include_colab_link": true
    },
    "kernelspec": {
      "name": "python3",
      "display_name": "Python 3"
    },
    "language_info": {
      "name": "python"
    }
  },
  "cells": [
    {
      "cell_type": "markdown",
      "metadata": {
        "id": "view-in-github",
        "colab_type": "text"
      },
      "source": [
        "<a href=\"https://colab.research.google.com/github/Rdeandres/Game_Analytics_Classification/blob/main/trying_propher_Game_Analytics.ipynb\" target=\"_parent\"><img src=\"https://colab.research.google.com/assets/colab-badge.svg\" alt=\"Open In Colab\"/></a>"
      ]
    },
    {
      "cell_type": "code",
      "metadata": {
        "id": "SxU2t0u1XtcH"
      },
      "source": [
        "import pandas as pd\n",
        "import itertools as itertools\n",
        "import numpy as np\n",
        "from fbprophet import Prophet\n",
        "%matplotlib inline\n",
        "import matplotlib.pyplot as plt"
      ],
      "execution_count": 51,
      "outputs": []
    },
    {
      "cell_type": "code",
      "metadata": {
        "id": "1itpU9X2X6Y6"
      },
      "source": [
        "positive=pd.read_csv('export_dataframe.csv',  sep=',', low_memory=False)\n",
        "positive = positive.rename(columns={'Date': 'ds', 'Daily Active Users': 'y'})"
      ],
      "execution_count": 11,
      "outputs": []
    },
    {
      "cell_type": "code",
      "metadata": {
        "colab": {
          "base_uri": "https://localhost:8080/"
        },
        "id": "1RfBFE8ycIYQ",
        "outputId": "0961be02-3b58-4bbe-ace6-df7ac62fe82c"
      },
      "source": [
        "model1=Prophet(interval_width=0.95) \n",
        "# Python\n",
        "\n",
        "model1.fit(positive)"
      ],
      "execution_count": 73,
      "outputs": [
        {
          "output_type": "stream",
          "text": [
            "INFO:fbprophet:Disabling yearly seasonality. Run prophet with yearly_seasonality=True to override this.\n",
            "INFO:fbprophet:Disabling daily seasonality. Run prophet with daily_seasonality=True to override this.\n"
          ],
          "name": "stderr"
        },
        {
          "output_type": "execute_result",
          "data": {
            "text/plain": [
              "<fbprophet.forecaster.Prophet at 0x7f959c995e10>"
            ]
          },
          "metadata": {
            "tags": []
          },
          "execution_count": 73
        }
      ]
    },
    {
      "cell_type": "code",
      "metadata": {
        "colab": {
          "base_uri": "https://localhost:8080/",
          "height": 204
        },
        "id": "CPn8hLlFdFba",
        "outputId": "5e21e8ce-8924-49b3-8cba-fd93d6dc7440"
      },
      "source": [
        "future = model1.make_future_dataframe(periods=7)\n",
        "future.tail()"
      ],
      "execution_count": 74,
      "outputs": [
        {
          "output_type": "execute_result",
          "data": {
            "text/html": [
              "<div>\n",
              "<style scoped>\n",
              "    .dataframe tbody tr th:only-of-type {\n",
              "        vertical-align: middle;\n",
              "    }\n",
              "\n",
              "    .dataframe tbody tr th {\n",
              "        vertical-align: top;\n",
              "    }\n",
              "\n",
              "    .dataframe thead th {\n",
              "        text-align: right;\n",
              "    }\n",
              "</style>\n",
              "<table border=\"1\" class=\"dataframe\">\n",
              "  <thead>\n",
              "    <tr style=\"text-align: right;\">\n",
              "      <th></th>\n",
              "      <th>ds</th>\n",
              "    </tr>\n",
              "  </thead>\n",
              "  <tbody>\n",
              "    <tr>\n",
              "      <th>140</th>\n",
              "      <td>2021-02-03</td>\n",
              "    </tr>\n",
              "    <tr>\n",
              "      <th>141</th>\n",
              "      <td>2021-02-04</td>\n",
              "    </tr>\n",
              "    <tr>\n",
              "      <th>142</th>\n",
              "      <td>2021-02-05</td>\n",
              "    </tr>\n",
              "    <tr>\n",
              "      <th>143</th>\n",
              "      <td>2021-02-06</td>\n",
              "    </tr>\n",
              "    <tr>\n",
              "      <th>144</th>\n",
              "      <td>2021-02-07</td>\n",
              "    </tr>\n",
              "  </tbody>\n",
              "</table>\n",
              "</div>"
            ],
            "text/plain": [
              "            ds\n",
              "140 2021-02-03\n",
              "141 2021-02-04\n",
              "142 2021-02-05\n",
              "143 2021-02-06\n",
              "144 2021-02-07"
            ]
          },
          "metadata": {
            "tags": []
          },
          "execution_count": 74
        }
      ]
    },
    {
      "cell_type": "code",
      "metadata": {
        "colab": {
          "base_uri": "https://localhost:8080/",
          "height": 204
        },
        "id": "s0a0LHTjdQBP",
        "outputId": "acf0cc0e-1dce-408e-9e67-a02cb2598f63"
      },
      "source": [
        "forecast = model1.predict(future)\n",
        "forecast[['ds', 'yhat', 'yhat_lower', 'yhat_upper']].tail()\n"
      ],
      "execution_count": 75,
      "outputs": [
        {
          "output_type": "execute_result",
          "data": {
            "text/html": [
              "<div>\n",
              "<style scoped>\n",
              "    .dataframe tbody tr th:only-of-type {\n",
              "        vertical-align: middle;\n",
              "    }\n",
              "\n",
              "    .dataframe tbody tr th {\n",
              "        vertical-align: top;\n",
              "    }\n",
              "\n",
              "    .dataframe thead th {\n",
              "        text-align: right;\n",
              "    }\n",
              "</style>\n",
              "<table border=\"1\" class=\"dataframe\">\n",
              "  <thead>\n",
              "    <tr style=\"text-align: right;\">\n",
              "      <th></th>\n",
              "      <th>ds</th>\n",
              "      <th>yhat</th>\n",
              "      <th>yhat_lower</th>\n",
              "      <th>yhat_upper</th>\n",
              "    </tr>\n",
              "  </thead>\n",
              "  <tbody>\n",
              "    <tr>\n",
              "      <th>140</th>\n",
              "      <td>2021-02-03</td>\n",
              "      <td>6167.725625</td>\n",
              "      <td>2409.799520</td>\n",
              "      <td>9581.216460</td>\n",
              "    </tr>\n",
              "    <tr>\n",
              "      <th>141</th>\n",
              "      <td>2021-02-04</td>\n",
              "      <td>5823.401084</td>\n",
              "      <td>2297.575700</td>\n",
              "      <td>9176.448158</td>\n",
              "    </tr>\n",
              "    <tr>\n",
              "      <th>142</th>\n",
              "      <td>2021-02-05</td>\n",
              "      <td>6338.642864</td>\n",
              "      <td>2787.887311</td>\n",
              "      <td>9529.299409</td>\n",
              "    </tr>\n",
              "    <tr>\n",
              "      <th>143</th>\n",
              "      <td>2021-02-06</td>\n",
              "      <td>8707.415873</td>\n",
              "      <td>4996.753212</td>\n",
              "      <td>12244.078087</td>\n",
              "    </tr>\n",
              "    <tr>\n",
              "      <th>144</th>\n",
              "      <td>2021-02-07</td>\n",
              "      <td>8877.193490</td>\n",
              "      <td>5089.169700</td>\n",
              "      <td>12653.302556</td>\n",
              "    </tr>\n",
              "  </tbody>\n",
              "</table>\n",
              "</div>"
            ],
            "text/plain": [
              "            ds         yhat   yhat_lower    yhat_upper\n",
              "140 2021-02-03  6167.725625  2409.799520   9581.216460\n",
              "141 2021-02-04  5823.401084  2297.575700   9176.448158\n",
              "142 2021-02-05  6338.642864  2787.887311   9529.299409\n",
              "143 2021-02-06  8707.415873  4996.753212  12244.078087\n",
              "144 2021-02-07  8877.193490  5089.169700  12653.302556"
            ]
          },
          "metadata": {
            "tags": []
          },
          "execution_count": 75
        }
      ]
    },
    {
      "cell_type": "code",
      "metadata": {
        "colab": {
          "base_uri": "https://localhost:8080/"
        },
        "id": "oBpGlO5hkFAe",
        "outputId": "aea2f582-f54a-49a1-b8e8-a7211ebf81e7"
      },
      "source": [
        "df=forecast\n",
        "df.info()"
      ],
      "execution_count": 76,
      "outputs": [
        {
          "output_type": "stream",
          "text": [
            "<class 'pandas.core.frame.DataFrame'>\n",
            "RangeIndex: 145 entries, 0 to 144\n",
            "Data columns (total 16 columns):\n",
            " #   Column                      Non-Null Count  Dtype         \n",
            "---  ------                      --------------  -----         \n",
            " 0   ds                          145 non-null    datetime64[ns]\n",
            " 1   trend                       145 non-null    float64       \n",
            " 2   yhat_lower                  145 non-null    float64       \n",
            " 3   yhat_upper                  145 non-null    float64       \n",
            " 4   trend_lower                 145 non-null    float64       \n",
            " 5   trend_upper                 145 non-null    float64       \n",
            " 6   additive_terms              145 non-null    float64       \n",
            " 7   additive_terms_lower        145 non-null    float64       \n",
            " 8   additive_terms_upper        145 non-null    float64       \n",
            " 9   weekly                      145 non-null    float64       \n",
            " 10  weekly_lower                145 non-null    float64       \n",
            " 11  weekly_upper                145 non-null    float64       \n",
            " 12  multiplicative_terms        145 non-null    float64       \n",
            " 13  multiplicative_terms_lower  145 non-null    float64       \n",
            " 14  multiplicative_terms_upper  145 non-null    float64       \n",
            " 15  yhat                        145 non-null    float64       \n",
            "dtypes: datetime64[ns](1), float64(15)\n",
            "memory usage: 18.2 KB\n"
          ],
          "name": "stdout"
        }
      ]
    },
    {
      "cell_type": "code",
      "metadata": {
        "colab": {
          "base_uri": "https://localhost:8080/",
          "height": 204
        },
        "id": "RbfEQVzLlZhn",
        "outputId": "25d5014e-cddc-4af6-92d6-e0f98930c0ed"
      },
      "source": [
        "start_date = \"2021-02-01\"\n",
        "end_date = \"2021-02-07\"\n",
        "\n",
        "after_start_date = df[\"ds\"] >= start_date\n",
        "before_end_date = df[\"ds\"] <= end_date\n",
        "between_two_dates = after_start_date & before_end_date\n",
        "filtered_dates = df.loc[between_two_dates]\n",
        "filtered_dates.tail()"
      ],
      "execution_count": 83,
      "outputs": [
        {
          "output_type": "execute_result",
          "data": {
            "text/html": [
              "<div>\n",
              "<style scoped>\n",
              "    .dataframe tbody tr th:only-of-type {\n",
              "        vertical-align: middle;\n",
              "    }\n",
              "\n",
              "    .dataframe tbody tr th {\n",
              "        vertical-align: top;\n",
              "    }\n",
              "\n",
              "    .dataframe thead th {\n",
              "        text-align: right;\n",
              "    }\n",
              "</style>\n",
              "<table border=\"1\" class=\"dataframe\">\n",
              "  <thead>\n",
              "    <tr style=\"text-align: right;\">\n",
              "      <th></th>\n",
              "      <th>ds</th>\n",
              "      <th>trend</th>\n",
              "      <th>yhat_lower</th>\n",
              "      <th>yhat_upper</th>\n",
              "      <th>trend_lower</th>\n",
              "      <th>trend_upper</th>\n",
              "      <th>additive_terms</th>\n",
              "      <th>additive_terms_lower</th>\n",
              "      <th>additive_terms_upper</th>\n",
              "      <th>weekly</th>\n",
              "      <th>weekly_lower</th>\n",
              "      <th>weekly_upper</th>\n",
              "      <th>multiplicative_terms</th>\n",
              "      <th>multiplicative_terms_lower</th>\n",
              "      <th>multiplicative_terms_upper</th>\n",
              "      <th>yhat</th>\n",
              "    </tr>\n",
              "  </thead>\n",
              "  <tbody>\n",
              "    <tr>\n",
              "      <th>140</th>\n",
              "      <td>2021-02-03</td>\n",
              "      <td>6939.535153</td>\n",
              "      <td>2409.799520</td>\n",
              "      <td>9581.216460</td>\n",
              "      <td>6782.850859</td>\n",
              "      <td>7111.684198</td>\n",
              "      <td>-771.809528</td>\n",
              "      <td>-771.809528</td>\n",
              "      <td>-771.809528</td>\n",
              "      <td>-771.809528</td>\n",
              "      <td>-771.809528</td>\n",
              "      <td>-771.809528</td>\n",
              "      <td>0.0</td>\n",
              "      <td>0.0</td>\n",
              "      <td>0.0</td>\n",
              "      <td>6167.725625</td>\n",
              "    </tr>\n",
              "    <tr>\n",
              "      <th>141</th>\n",
              "      <td>2021-02-04</td>\n",
              "      <td>6923.065033</td>\n",
              "      <td>2297.575700</td>\n",
              "      <td>9176.448158</td>\n",
              "      <td>6688.878858</td>\n",
              "      <td>7178.221394</td>\n",
              "      <td>-1099.663949</td>\n",
              "      <td>-1099.663949</td>\n",
              "      <td>-1099.663949</td>\n",
              "      <td>-1099.663949</td>\n",
              "      <td>-1099.663949</td>\n",
              "      <td>-1099.663949</td>\n",
              "      <td>0.0</td>\n",
              "      <td>0.0</td>\n",
              "      <td>0.0</td>\n",
              "      <td>5823.401084</td>\n",
              "    </tr>\n",
              "    <tr>\n",
              "      <th>142</th>\n",
              "      <td>2021-02-05</td>\n",
              "      <td>6906.594913</td>\n",
              "      <td>2787.887311</td>\n",
              "      <td>9529.299409</td>\n",
              "      <td>6597.732267</td>\n",
              "      <td>7264.518033</td>\n",
              "      <td>-567.952049</td>\n",
              "      <td>-567.952049</td>\n",
              "      <td>-567.952049</td>\n",
              "      <td>-567.952049</td>\n",
              "      <td>-567.952049</td>\n",
              "      <td>-567.952049</td>\n",
              "      <td>0.0</td>\n",
              "      <td>0.0</td>\n",
              "      <td>0.0</td>\n",
              "      <td>6338.642864</td>\n",
              "    </tr>\n",
              "    <tr>\n",
              "      <th>143</th>\n",
              "      <td>2021-02-06</td>\n",
              "      <td>6890.124792</td>\n",
              "      <td>4996.753212</td>\n",
              "      <td>12244.078087</td>\n",
              "      <td>6456.352685</td>\n",
              "      <td>7350.961523</td>\n",
              "      <td>1817.291081</td>\n",
              "      <td>1817.291081</td>\n",
              "      <td>1817.291081</td>\n",
              "      <td>1817.291081</td>\n",
              "      <td>1817.291081</td>\n",
              "      <td>1817.291081</td>\n",
              "      <td>0.0</td>\n",
              "      <td>0.0</td>\n",
              "      <td>0.0</td>\n",
              "      <td>8707.415873</td>\n",
              "    </tr>\n",
              "    <tr>\n",
              "      <th>144</th>\n",
              "      <td>2021-02-07</td>\n",
              "      <td>6873.654672</td>\n",
              "      <td>5089.169700</td>\n",
              "      <td>12653.302556</td>\n",
              "      <td>6356.628680</td>\n",
              "      <td>7467.053885</td>\n",
              "      <td>2003.538818</td>\n",
              "      <td>2003.538818</td>\n",
              "      <td>2003.538818</td>\n",
              "      <td>2003.538818</td>\n",
              "      <td>2003.538818</td>\n",
              "      <td>2003.538818</td>\n",
              "      <td>0.0</td>\n",
              "      <td>0.0</td>\n",
              "      <td>0.0</td>\n",
              "      <td>8877.193490</td>\n",
              "    </tr>\n",
              "  </tbody>\n",
              "</table>\n",
              "</div>"
            ],
            "text/plain": [
              "            ds        trend  ...  multiplicative_terms_upper         yhat\n",
              "140 2021-02-03  6939.535153  ...                         0.0  6167.725625\n",
              "141 2021-02-04  6923.065033  ...                         0.0  5823.401084\n",
              "142 2021-02-05  6906.594913  ...                         0.0  6338.642864\n",
              "143 2021-02-06  6890.124792  ...                         0.0  8707.415873\n",
              "144 2021-02-07  6873.654672  ...                         0.0  8877.193490\n",
              "\n",
              "[5 rows x 16 columns]"
            ]
          },
          "metadata": {
            "tags": []
          },
          "execution_count": 83
        }
      ]
    },
    {
      "cell_type": "code",
      "metadata": {
        "colab": {
          "base_uri": "https://localhost:8080/",
          "height": 441
        },
        "id": "C8Xhc8_wdTYP",
        "outputId": "e1dda41d-6a69-4266-ea91-c2c4c0daed98"
      },
      "source": [
        "fig1 = model1.plot(forecast)\n"
      ],
      "execution_count": 84,
      "outputs": [
        {
          "output_type": "display_data",
          "data": {
            "image/png": "[encoded data removed]",
            "text/plain": [
              "<Figure size 720x432 with 1 Axes>"
            ]
          },
          "metadata": {
            "tags": []
          }
        }
      ]
    },
    {
      "cell_type": "code",
      "metadata": {
        "colab": {
          "base_uri": "https://localhost:8080/",
          "height": 204
        },
        "id": "EFdHJNvPddCz",
        "outputId": "0b4621cf-d9b1-489d-dc6f-76342ac42041"
      },
      "source": [
        "test=pd.read_csv('test_dataframe.csv',  sep=',', low_memory=False)\n",
        "test = test.rename(columns={'Date': 'ds', 'Daily Active Users': 'y'})\n",
        "\n",
        "\n",
        "test.tail()\n"
      ],
      "execution_count": 99,
      "outputs": [
        {
          "output_type": "execute_result",
          "data": {
            "text/html": [
              "<div>\n",
              "<style scoped>\n",
              "    .dataframe tbody tr th:only-of-type {\n",
              "        vertical-align: middle;\n",
              "    }\n",
              "\n",
              "    .dataframe tbody tr th {\n",
              "        vertical-align: top;\n",
              "    }\n",
              "\n",
              "    .dataframe thead th {\n",
              "        text-align: right;\n",
              "    }\n",
              "</style>\n",
              "<table border=\"1\" class=\"dataframe\">\n",
              "  <thead>\n",
              "    <tr style=\"text-align: right;\">\n",
              "      <th></th>\n",
              "      <th>ds</th>\n",
              "      <th>y</th>\n",
              "    </tr>\n",
              "  </thead>\n",
              "  <tbody>\n",
              "    <tr>\n",
              "      <th>2</th>\n",
              "      <td>2021-02-03</td>\n",
              "      <td>5895.0</td>\n",
              "    </tr>\n",
              "    <tr>\n",
              "      <th>3</th>\n",
              "      <td>2021-02-04</td>\n",
              "      <td>5558.0</td>\n",
              "    </tr>\n",
              "    <tr>\n",
              "      <th>4</th>\n",
              "      <td>2021-02-05</td>\n",
              "      <td>6094.0</td>\n",
              "    </tr>\n",
              "    <tr>\n",
              "      <th>5</th>\n",
              "      <td>2021-02-06</td>\n",
              "      <td>8343.0</td>\n",
              "    </tr>\n",
              "    <tr>\n",
              "      <th>6</th>\n",
              "      <td>2021-02-07</td>\n",
              "      <td>8747.0</td>\n",
              "    </tr>\n",
              "  </tbody>\n",
              "</table>\n",
              "</div>"
            ],
            "text/plain": [
              "           ds       y\n",
              "2  2021-02-03  5895.0\n",
              "3  2021-02-04  5558.0\n",
              "4  2021-02-05  6094.0\n",
              "5  2021-02-06  8343.0\n",
              "6  2021-02-07  8747.0"
            ]
          },
          "metadata": {
            "tags": []
          },
          "execution_count": 99
        }
      ]
    },
    {
      "cell_type": "code",
      "metadata": {
        "colab": {
          "base_uri": "https://localhost:8080/"
        },
        "id": "KGyhIqBwj7gM",
        "outputId": "92fd6b9c-44dd-4559-bb0e-1b7aeaf5f9c5"
      },
      "source": [
        "test.head()"
      ],
      "execution_count": 97,
      "outputs": [
        {
          "output_type": "execute_result",
          "data": {
            "text/plain": [
              "0    True\n",
              "1    True\n",
              "2    True\n",
              "3    True\n",
              "4    True\n",
              "Name: ds, dtype: bool"
            ]
          },
          "metadata": {
            "tags": []
          },
          "execution_count": 97
        }
      ]
    },
    {
      "cell_type": "code",
      "metadata": {
        "id": "ITiEeY7UfAyy"
      },
      "source": [
        "from sklearn.metrics import mean_squared_error, r2_score"
      ],
      "execution_count": 87,
      "outputs": []
    },
    {
      "cell_type": "code",
      "metadata": {
        "colab": {
          "base_uri": "https://localhost:8080/"
        },
        "id": "rGAKckBTe61R",
        "outputId": "75f9dcf0-4411-42db-a8c0-3613c75d5688"
      },
      "source": [
        "rmse = np.sqrt(mean_squared_error(test['y'],filtered_dates['yhat']))\n",
        "r2 = r2_score(test['y'],filtered_dates['yhat'])\n",
        "print(rmse)\n",
        "print(r2)"
      ],
      "execution_count": 100,
      "outputs": [
        {
          "output_type": "stream",
          "text": [
            "260.0679690624583\n",
            "0.9487418215131233\n"
          ],
          "name": "stdout"
        }
      ]
    },
    {
      "cell_type": "code",
      "metadata": {
        "colab": {
          "base_uri": "https://localhost:8080/"
        },
        "id": "i1TsPkyb8o6N",
        "outputId": "3a5499a9-8b95-45f4-c4f7-29628de2d880"
      },
      "source": [
        "print(filtered_dates['yhat'])"
      ],
      "execution_count": 104,
      "outputs": [
        {
          "output_type": "stream",
          "text": [
            "138    6343.716264\n",
            "139    6203.360031\n",
            "140    6167.725625\n",
            "141    5823.401084\n",
            "142    6338.642864\n",
            "143    8707.415873\n",
            "144    8877.193490\n",
            "Name: yhat, dtype: float64\n"
          ],
          "name": "stdout"
        }
      ]
    },
    {
      "cell_type": "markdown",
      "metadata": {
        "id": "E8xBWIFpmnA_"
      },
      "source": [
        "first approach without tunning model not bad\n"
      ]
    },
    {
      "cell_type": "code",
      "metadata": {
        "colab": {
          "base_uri": "https://localhost:8080/"
        },
        "id": "4GUwX_YfmyAm",
        "outputId": "9da995f8-70ab-4952-bd45-2c1224e15507"
      },
      "source": [
        "\n",
        "# Python\n",
        "# available holidays countries\n",
        "#https://github.com/dr-prodigy/python-holidays\n",
        "\n",
        "model2=Prophet(interval_width=0.95) \n",
        "\n",
        "model2.add_country_holidays(country_name='US')\n",
        "model2.fit(positive)\n",
        "# List the holiday names\n",
        "model2.train_holiday_names"
      ],
      "execution_count": 101,
      "outputs": [
        {
          "output_type": "stream",
          "text": [
            "INFO:fbprophet:Disabling yearly seasonality. Run prophet with yearly_seasonality=True to override this.\n",
            "INFO:fbprophet:Disabling daily seasonality. Run prophet with daily_seasonality=True to override this.\n"
          ],
          "name": "stderr"
        },
        {
          "output_type": "execute_result",
          "data": {
            "text/plain": [
              "0                  New Year's Day\n",
              "1      Martin Luther King Jr. Day\n",
              "2           Washington's Birthday\n",
              "3                    Memorial Day\n",
              "4                Independence Day\n",
              "5     Independence Day (Observed)\n",
              "6                       Labor Day\n",
              "7                    Columbus Day\n",
              "8                    Veterans Day\n",
              "9                    Thanksgiving\n",
              "10                  Christmas Day\n",
              "11      New Year's Day (Observed)\n",
              "12       Christmas Day (Observed)\n",
              "dtype: object"
            ]
          },
          "metadata": {
            "tags": []
          },
          "execution_count": 101
        }
      ]
    },
    {
      "cell_type": "code",
      "metadata": {
        "colab": {
          "base_uri": "https://localhost:8080/",
          "height": 377
        },
        "id": "-guBlAKQseGG",
        "outputId": "31c3b582-060e-44ed-af7f-5e2b8e201da1"
      },
      "source": [
        "forecast2 = model2.predict(future)\n",
        "\n",
        "start_date = \"2021-02-01\"\n",
        "end_date = \"2021-02-07\"\n",
        "\n",
        "after_start_date = forecast2[\"ds\"] >= start_date\n",
        "before_end_date = forecast2[\"ds\"] <= end_date\n",
        "between_two_dates = after_start_date & before_end_date\n",
        "filtered_dates2 = forecast2.loc[between_two_dates]\n",
        "filtered_dates2.tail()"
      ],
      "execution_count": 102,
      "outputs": [
        {
          "output_type": "execute_result",
          "data": {
            "text/html": [
              "<div>\n",
              "<style scoped>\n",
              "    .dataframe tbody tr th:only-of-type {\n",
              "        vertical-align: middle;\n",
              "    }\n",
              "\n",
              "    .dataframe tbody tr th {\n",
              "        vertical-align: top;\n",
              "    }\n",
              "\n",
              "    .dataframe thead th {\n",
              "        text-align: right;\n",
              "    }\n",
              "</style>\n",
              "<table border=\"1\" class=\"dataframe\">\n",
              "  <thead>\n",
              "    <tr style=\"text-align: right;\">\n",
              "      <th></th>\n",
              "      <th>ds</th>\n",
              "      <th>trend</th>\n",
              "      <th>yhat_lower</th>\n",
              "      <th>yhat_upper</th>\n",
              "      <th>trend_lower</th>\n",
              "      <th>trend_upper</th>\n",
              "      <th>Christmas Day</th>\n",
              "      <th>Christmas Day_lower</th>\n",
              "      <th>Christmas Day_upper</th>\n",
              "      <th>Christmas Day (Observed)</th>\n",
              "      <th>Christmas Day (Observed)_lower</th>\n",
              "      <th>Christmas Day (Observed)_upper</th>\n",
              "      <th>Columbus Day</th>\n",
              "      <th>Columbus Day_lower</th>\n",
              "      <th>Columbus Day_upper</th>\n",
              "      <th>Independence Day</th>\n",
              "      <th>Independence Day_lower</th>\n",
              "      <th>Independence Day_upper</th>\n",
              "      <th>Independence Day (Observed)</th>\n",
              "      <th>Independence Day (Observed)_lower</th>\n",
              "      <th>Independence Day (Observed)_upper</th>\n",
              "      <th>Labor Day</th>\n",
              "      <th>Labor Day_lower</th>\n",
              "      <th>Labor Day_upper</th>\n",
              "      <th>Martin Luther King Jr. Day</th>\n",
              "      <th>Martin Luther King Jr. Day_lower</th>\n",
              "      <th>Martin Luther King Jr. Day_upper</th>\n",
              "      <th>Memorial Day</th>\n",
              "      <th>Memorial Day_lower</th>\n",
              "      <th>Memorial Day_upper</th>\n",
              "      <th>New Year's Day</th>\n",
              "      <th>New Year's Day_lower</th>\n",
              "      <th>New Year's Day_upper</th>\n",
              "      <th>New Year's Day (Observed)</th>\n",
              "      <th>New Year's Day (Observed)_lower</th>\n",
              "      <th>New Year's Day (Observed)_upper</th>\n",
              "      <th>Thanksgiving</th>\n",
              "      <th>Thanksgiving_lower</th>\n",
              "      <th>Thanksgiving_upper</th>\n",
              "      <th>Veterans Day</th>\n",
              "      <th>Veterans Day_lower</th>\n",
              "      <th>Veterans Day_upper</th>\n",
              "      <th>Washington's Birthday</th>\n",
              "      <th>Washington's Birthday_lower</th>\n",
              "      <th>Washington's Birthday_upper</th>\n",
              "      <th>additive_terms</th>\n",
              "      <th>additive_terms_lower</th>\n",
              "      <th>additive_terms_upper</th>\n",
              "      <th>holidays</th>\n",
              "      <th>holidays_lower</th>\n",
              "      <th>holidays_upper</th>\n",
              "      <th>weekly</th>\n",
              "      <th>weekly_lower</th>\n",
              "      <th>weekly_upper</th>\n",
              "      <th>multiplicative_terms</th>\n",
              "      <th>multiplicative_terms_lower</th>\n",
              "      <th>multiplicative_terms_upper</th>\n",
              "      <th>yhat</th>\n",
              "    </tr>\n",
              "  </thead>\n",
              "  <tbody>\n",
              "    <tr>\n",
              "      <th>140</th>\n",
              "      <td>2021-02-03</td>\n",
              "      <td>6968.846308</td>\n",
              "      <td>3282.661993</td>\n",
              "      <td>9537.000798</td>\n",
              "      <td>6829.297942</td>\n",
              "      <td>7147.003059</td>\n",
              "      <td>0.0</td>\n",
              "      <td>0.0</td>\n",
              "      <td>0.0</td>\n",
              "      <td>0.0</td>\n",
              "      <td>0.0</td>\n",
              "      <td>0.0</td>\n",
              "      <td>0.0</td>\n",
              "      <td>0.0</td>\n",
              "      <td>0.0</td>\n",
              "      <td>0.0</td>\n",
              "      <td>0.0</td>\n",
              "      <td>0.0</td>\n",
              "      <td>0.0</td>\n",
              "      <td>0.0</td>\n",
              "      <td>0.0</td>\n",
              "      <td>0.0</td>\n",
              "      <td>0.0</td>\n",
              "      <td>0.0</td>\n",
              "      <td>0.0</td>\n",
              "      <td>0.0</td>\n",
              "      <td>0.0</td>\n",
              "      <td>0.0</td>\n",
              "      <td>0.0</td>\n",
              "      <td>0.0</td>\n",
              "      <td>0.0</td>\n",
              "      <td>0.0</td>\n",
              "      <td>0.0</td>\n",
              "      <td>0.0</td>\n",
              "      <td>0.0</td>\n",
              "      <td>0.0</td>\n",
              "      <td>0.0</td>\n",
              "      <td>0.0</td>\n",
              "      <td>0.0</td>\n",
              "      <td>0.0</td>\n",
              "      <td>0.0</td>\n",
              "      <td>0.0</td>\n",
              "      <td>0.0</td>\n",
              "      <td>0.0</td>\n",
              "      <td>0.0</td>\n",
              "      <td>-817.332750</td>\n",
              "      <td>-817.332750</td>\n",
              "      <td>-817.332750</td>\n",
              "      <td>0.0</td>\n",
              "      <td>0.0</td>\n",
              "      <td>0.0</td>\n",
              "      <td>-817.332750</td>\n",
              "      <td>-817.332750</td>\n",
              "      <td>-817.332750</td>\n",
              "      <td>0.0</td>\n",
              "      <td>0.0</td>\n",
              "      <td>0.0</td>\n",
              "      <td>6151.513558</td>\n",
              "    </tr>\n",
              "    <tr>\n",
              "      <th>141</th>\n",
              "      <td>2021-02-04</td>\n",
              "      <td>6955.938067</td>\n",
              "      <td>2623.552353</td>\n",
              "      <td>9390.774611</td>\n",
              "      <td>6747.574645</td>\n",
              "      <td>7211.351367</td>\n",
              "      <td>0.0</td>\n",
              "      <td>0.0</td>\n",
              "      <td>0.0</td>\n",
              "      <td>0.0</td>\n",
              "      <td>0.0</td>\n",
              "      <td>0.0</td>\n",
              "      <td>0.0</td>\n",
              "      <td>0.0</td>\n",
              "      <td>0.0</td>\n",
              "      <td>0.0</td>\n",
              "      <td>0.0</td>\n",
              "      <td>0.0</td>\n",
              "      <td>0.0</td>\n",
              "      <td>0.0</td>\n",
              "      <td>0.0</td>\n",
              "      <td>0.0</td>\n",
              "      <td>0.0</td>\n",
              "      <td>0.0</td>\n",
              "      <td>0.0</td>\n",
              "      <td>0.0</td>\n",
              "      <td>0.0</td>\n",
              "      <td>0.0</td>\n",
              "      <td>0.0</td>\n",
              "      <td>0.0</td>\n",
              "      <td>0.0</td>\n",
              "      <td>0.0</td>\n",
              "      <td>0.0</td>\n",
              "      <td>0.0</td>\n",
              "      <td>0.0</td>\n",
              "      <td>0.0</td>\n",
              "      <td>0.0</td>\n",
              "      <td>0.0</td>\n",
              "      <td>0.0</td>\n",
              "      <td>0.0</td>\n",
              "      <td>0.0</td>\n",
              "      <td>0.0</td>\n",
              "      <td>0.0</td>\n",
              "      <td>0.0</td>\n",
              "      <td>0.0</td>\n",
              "      <td>-1202.831246</td>\n",
              "      <td>-1202.831246</td>\n",
              "      <td>-1202.831246</td>\n",
              "      <td>0.0</td>\n",
              "      <td>0.0</td>\n",
              "      <td>0.0</td>\n",
              "      <td>-1202.831246</td>\n",
              "      <td>-1202.831246</td>\n",
              "      <td>-1202.831246</td>\n",
              "      <td>0.0</td>\n",
              "      <td>0.0</td>\n",
              "      <td>0.0</td>\n",
              "      <td>5753.106822</td>\n",
              "    </tr>\n",
              "    <tr>\n",
              "      <th>142</th>\n",
              "      <td>2021-02-05</td>\n",
              "      <td>6943.029827</td>\n",
              "      <td>3159.338176</td>\n",
              "      <td>9717.014974</td>\n",
              "      <td>6645.371707</td>\n",
              "      <td>7299.016075</td>\n",
              "      <td>0.0</td>\n",
              "      <td>0.0</td>\n",
              "      <td>0.0</td>\n",
              "      <td>0.0</td>\n",
              "      <td>0.0</td>\n",
              "      <td>0.0</td>\n",
              "      <td>0.0</td>\n",
              "      <td>0.0</td>\n",
              "      <td>0.0</td>\n",
              "      <td>0.0</td>\n",
              "      <td>0.0</td>\n",
              "      <td>0.0</td>\n",
              "      <td>0.0</td>\n",
              "      <td>0.0</td>\n",
              "      <td>0.0</td>\n",
              "      <td>0.0</td>\n",
              "      <td>0.0</td>\n",
              "      <td>0.0</td>\n",
              "      <td>0.0</td>\n",
              "      <td>0.0</td>\n",
              "      <td>0.0</td>\n",
              "      <td>0.0</td>\n",
              "      <td>0.0</td>\n",
              "      <td>0.0</td>\n",
              "      <td>0.0</td>\n",
              "      <td>0.0</td>\n",
              "      <td>0.0</td>\n",
              "      <td>0.0</td>\n",
              "      <td>0.0</td>\n",
              "      <td>0.0</td>\n",
              "      <td>0.0</td>\n",
              "      <td>0.0</td>\n",
              "      <td>0.0</td>\n",
              "      <td>0.0</td>\n",
              "      <td>0.0</td>\n",
              "      <td>0.0</td>\n",
              "      <td>0.0</td>\n",
              "      <td>0.0</td>\n",
              "      <td>0.0</td>\n",
              "      <td>-543.639586</td>\n",
              "      <td>-543.639586</td>\n",
              "      <td>-543.639586</td>\n",
              "      <td>0.0</td>\n",
              "      <td>0.0</td>\n",
              "      <td>0.0</td>\n",
              "      <td>-543.639586</td>\n",
              "      <td>-543.639586</td>\n",
              "      <td>-543.639586</td>\n",
              "      <td>0.0</td>\n",
              "      <td>0.0</td>\n",
              "      <td>0.0</td>\n",
              "      <td>6399.390241</td>\n",
              "    </tr>\n",
              "    <tr>\n",
              "      <th>143</th>\n",
              "      <td>2021-02-06</td>\n",
              "      <td>6930.121586</td>\n",
              "      <td>5645.798293</td>\n",
              "      <td>11821.288774</td>\n",
              "      <td>6548.835626</td>\n",
              "      <td>7407.487396</td>\n",
              "      <td>0.0</td>\n",
              "      <td>0.0</td>\n",
              "      <td>0.0</td>\n",
              "      <td>0.0</td>\n",
              "      <td>0.0</td>\n",
              "      <td>0.0</td>\n",
              "      <td>0.0</td>\n",
              "      <td>0.0</td>\n",
              "      <td>0.0</td>\n",
              "      <td>0.0</td>\n",
              "      <td>0.0</td>\n",
              "      <td>0.0</td>\n",
              "      <td>0.0</td>\n",
              "      <td>0.0</td>\n",
              "      <td>0.0</td>\n",
              "      <td>0.0</td>\n",
              "      <td>0.0</td>\n",
              "      <td>0.0</td>\n",
              "      <td>0.0</td>\n",
              "      <td>0.0</td>\n",
              "      <td>0.0</td>\n",
              "      <td>0.0</td>\n",
              "      <td>0.0</td>\n",
              "      <td>0.0</td>\n",
              "      <td>0.0</td>\n",
              "      <td>0.0</td>\n",
              "      <td>0.0</td>\n",
              "      <td>0.0</td>\n",
              "      <td>0.0</td>\n",
              "      <td>0.0</td>\n",
              "      <td>0.0</td>\n",
              "      <td>0.0</td>\n",
              "      <td>0.0</td>\n",
              "      <td>0.0</td>\n",
              "      <td>0.0</td>\n",
              "      <td>0.0</td>\n",
              "      <td>0.0</td>\n",
              "      <td>0.0</td>\n",
              "      <td>0.0</td>\n",
              "      <td>1891.840993</td>\n",
              "      <td>1891.840993</td>\n",
              "      <td>1891.840993</td>\n",
              "      <td>0.0</td>\n",
              "      <td>0.0</td>\n",
              "      <td>0.0</td>\n",
              "      <td>1891.840993</td>\n",
              "      <td>1891.840993</td>\n",
              "      <td>1891.840993</td>\n",
              "      <td>0.0</td>\n",
              "      <td>0.0</td>\n",
              "      <td>0.0</td>\n",
              "      <td>8821.962579</td>\n",
              "    </tr>\n",
              "    <tr>\n",
              "      <th>144</th>\n",
              "      <td>2021-02-07</td>\n",
              "      <td>6917.213345</td>\n",
              "      <td>5974.647702</td>\n",
              "      <td>12258.110131</td>\n",
              "      <td>6444.962444</td>\n",
              "      <td>7488.807097</td>\n",
              "      <td>0.0</td>\n",
              "      <td>0.0</td>\n",
              "      <td>0.0</td>\n",
              "      <td>0.0</td>\n",
              "      <td>0.0</td>\n",
              "      <td>0.0</td>\n",
              "      <td>0.0</td>\n",
              "      <td>0.0</td>\n",
              "      <td>0.0</td>\n",
              "      <td>0.0</td>\n",
              "      <td>0.0</td>\n",
              "      <td>0.0</td>\n",
              "      <td>0.0</td>\n",
              "      <td>0.0</td>\n",
              "      <td>0.0</td>\n",
              "      <td>0.0</td>\n",
              "      <td>0.0</td>\n",
              "      <td>0.0</td>\n",
              "      <td>0.0</td>\n",
              "      <td>0.0</td>\n",
              "      <td>0.0</td>\n",
              "      <td>0.0</td>\n",
              "      <td>0.0</td>\n",
              "      <td>0.0</td>\n",
              "      <td>0.0</td>\n",
              "      <td>0.0</td>\n",
              "      <td>0.0</td>\n",
              "      <td>0.0</td>\n",
              "      <td>0.0</td>\n",
              "      <td>0.0</td>\n",
              "      <td>0.0</td>\n",
              "      <td>0.0</td>\n",
              "      <td>0.0</td>\n",
              "      <td>0.0</td>\n",
              "      <td>0.0</td>\n",
              "      <td>0.0</td>\n",
              "      <td>0.0</td>\n",
              "      <td>0.0</td>\n",
              "      <td>0.0</td>\n",
              "      <td>2080.192227</td>\n",
              "      <td>2080.192227</td>\n",
              "      <td>2080.192227</td>\n",
              "      <td>0.0</td>\n",
              "      <td>0.0</td>\n",
              "      <td>0.0</td>\n",
              "      <td>2080.192227</td>\n",
              "      <td>2080.192227</td>\n",
              "      <td>2080.192227</td>\n",
              "      <td>0.0</td>\n",
              "      <td>0.0</td>\n",
              "      <td>0.0</td>\n",
              "      <td>8997.405572</td>\n",
              "    </tr>\n",
              "  </tbody>\n",
              "</table>\n",
              "</div>"
            ],
            "text/plain": [
              "            ds        trend  ...  multiplicative_terms_upper         yhat\n",
              "140 2021-02-03  6968.846308  ...                         0.0  6151.513558\n",
              "141 2021-02-04  6955.938067  ...                         0.0  5753.106822\n",
              "142 2021-02-05  6943.029827  ...                         0.0  6399.390241\n",
              "143 2021-02-06  6930.121586  ...                         0.0  8821.962579\n",
              "144 2021-02-07  6917.213345  ...                         0.0  8997.405572\n",
              "\n",
              "[5 rows x 58 columns]"
            ]
          },
          "metadata": {
            "tags": []
          },
          "execution_count": 102
        }
      ]
    },
    {
      "cell_type": "code",
      "metadata": {
        "colab": {
          "base_uri": "https://localhost:8080/"
        },
        "id": "tWa4SGZKs7hZ",
        "outputId": "d998da2a-d2e8-4322-e159-d7a72f5e818f"
      },
      "source": [
        "rmse = np.sqrt(mean_squared_error(test['y'],filtered_dates2['yhat']))\n",
        "r2 = r2_score(test['y'],filtered_dates2['yhat'])\n",
        "print(rmse)\n",
        "print(r2)\n",
        "#works less well"
      ],
      "execution_count": 103,
      "outputs": [
        {
          "output_type": "stream",
          "text": [
            "299.9243228561109\n",
            "0.9318269364480813\n"
          ],
          "name": "stdout"
        }
      ]
    },
    {
      "cell_type": "markdown",
      "metadata": {
        "id": "Jya8VzsrtBWD"
      },
      "source": [
        "rubbish"
      ]
    },
    {
      "cell_type": "code",
      "metadata": {
        "id": "AGUMzb-AoiZ5"
      },
      "source": [
        ""
      ],
      "execution_count": null,
      "outputs": []
    },
    {
      "cell_type": "markdown",
      "metadata": {
        "id": "nwVgdGnXuV28"
      },
      "source": [
        "trying with cost regressor\n"
      ]
    },
    {
      "cell_type": "code",
      "metadata": {
        "colab": {
          "base_uri": "https://localhost:8080/",
          "height": 204
        },
        "id": "euCKaqkvuYbs",
        "outputId": "46e3c9ed-2daf-412d-9227-970bcf5bf1f5"
      },
      "source": [
        "positive=pd.read_csv('export_dataframe.csv',  sep=',', low_memory=False)\n",
        "positive = positive.rename(columns={'Date': 'ds', 'Daily Active Users': 'y'})\n",
        "positive.head()"
      ],
      "execution_count": 106,
      "outputs": [
        {
          "output_type": "execute_result",
          "data": {
            "text/html": [
              "<div>\n",
              "<style scoped>\n",
              "    .dataframe tbody tr th:only-of-type {\n",
              "        vertical-align: middle;\n",
              "    }\n",
              "\n",
              "    .dataframe tbody tr th {\n",
              "        vertical-align: top;\n",
              "    }\n",
              "\n",
              "    .dataframe thead th {\n",
              "        text-align: right;\n",
              "    }\n",
              "</style>\n",
              "<table border=\"1\" class=\"dataframe\">\n",
              "  <thead>\n",
              "    <tr style=\"text-align: right;\">\n",
              "      <th></th>\n",
              "      <th>ds</th>\n",
              "      <th>y</th>\n",
              "      <th>Cost</th>\n",
              "    </tr>\n",
              "  </thead>\n",
              "  <tbody>\n",
              "    <tr>\n",
              "      <th>0</th>\n",
              "      <td>2020-09-15</td>\n",
              "      <td>41507.0</td>\n",
              "      <td>5257.05</td>\n",
              "    </tr>\n",
              "    <tr>\n",
              "      <th>1</th>\n",
              "      <td>2020-09-16</td>\n",
              "      <td>39049.0</td>\n",
              "      <td>4365.45</td>\n",
              "    </tr>\n",
              "    <tr>\n",
              "      <th>2</th>\n",
              "      <td>2020-09-17</td>\n",
              "      <td>35518.0</td>\n",
              "      <td>3565.75</td>\n",
              "    </tr>\n",
              "    <tr>\n",
              "      <th>3</th>\n",
              "      <td>2020-09-18</td>\n",
              "      <td>33786.0</td>\n",
              "      <td>2891.40</td>\n",
              "    </tr>\n",
              "    <tr>\n",
              "      <th>4</th>\n",
              "      <td>2020-09-19</td>\n",
              "      <td>37254.0</td>\n",
              "      <td>2732.50</td>\n",
              "    </tr>\n",
              "  </tbody>\n",
              "</table>\n",
              "</div>"
            ],
            "text/plain": [
              "           ds        y     Cost\n",
              "0  2020-09-15  41507.0  5257.05\n",
              "1  2020-09-16  39049.0  4365.45\n",
              "2  2020-09-17  35518.0  3565.75\n",
              "3  2020-09-18  33786.0  2891.40\n",
              "4  2020-09-19  37254.0  2732.50"
            ]
          },
          "metadata": {
            "tags": []
          },
          "execution_count": 106
        }
      ]
    },
    {
      "cell_type": "code",
      "metadata": {
        "colab": {
          "base_uri": "https://localhost:8080/",
          "height": 297
        },
        "id": "jz2jaBmUvXhB",
        "outputId": "e2d28687-b8f9-4253-d07c-b6e05b64188b"
      },
      "source": [
        "#creating future values for Cost\n",
        "\n",
        "\n",
        "future_range = pd.date_range('2021-02-01', periods=7, freq='D')\n",
        "Cost_df = pd.DataFrame({ 'ds': future_range, 'Cost' : 0})\n",
        "Cost_df['ds'] = pd.to_datetime(Cost_df['ds'])\n",
        "Cost_df = Cost_df.set_index('ds')\n",
        "Cost_df.at['2021-02-01', 'Cost'] = 659.0500000000096\n",
        "Cost_df.at['2021-02-02', 'Cost'] = 728.5700000000085\n",
        "Cost_df.at['2021-02-03', 'Cost'] = 445.5000000000036\n",
        "Cost_df.at['2021-02-04', 'Cost'] = 426.5500000000038\n",
        "Cost_df.at['2021-02-05', 'Cost'] = 493.80000000000496\n",
        "Cost_df.at['2021-02-06', 'Cost'] = 636.2200000000068\n",
        "Cost_df.at['2021-02-07', 'Cost'] = 989.3000000000139\n",
        "\n",
        "Cost_df.tail(10)\n"
      ],
      "execution_count": 144,
      "outputs": [
        {
          "output_type": "execute_result",
          "data": {
            "text/html": [
              "<div>\n",
              "<style scoped>\n",
              "    .dataframe tbody tr th:only-of-type {\n",
              "        vertical-align: middle;\n",
              "    }\n",
              "\n",
              "    .dataframe tbody tr th {\n",
              "        vertical-align: top;\n",
              "    }\n",
              "\n",
              "    .dataframe thead th {\n",
              "        text-align: right;\n",
              "    }\n",
              "</style>\n",
              "<table border=\"1\" class=\"dataframe\">\n",
              "  <thead>\n",
              "    <tr style=\"text-align: right;\">\n",
              "      <th></th>\n",
              "      <th>Cost</th>\n",
              "    </tr>\n",
              "    <tr>\n",
              "      <th>ds</th>\n",
              "      <th></th>\n",
              "    </tr>\n",
              "  </thead>\n",
              "  <tbody>\n",
              "    <tr>\n",
              "      <th>2021-02-01</th>\n",
              "      <td>659.05</td>\n",
              "    </tr>\n",
              "    <tr>\n",
              "      <th>2021-02-02</th>\n",
              "      <td>728.57</td>\n",
              "    </tr>\n",
              "    <tr>\n",
              "      <th>2021-02-03</th>\n",
              "      <td>445.50</td>\n",
              "    </tr>\n",
              "    <tr>\n",
              "      <th>2021-02-04</th>\n",
              "      <td>426.55</td>\n",
              "    </tr>\n",
              "    <tr>\n",
              "      <th>2021-02-05</th>\n",
              "      <td>493.80</td>\n",
              "    </tr>\n",
              "    <tr>\n",
              "      <th>2021-02-06</th>\n",
              "      <td>636.22</td>\n",
              "    </tr>\n",
              "    <tr>\n",
              "      <th>2021-02-07</th>\n",
              "      <td>989.30</td>\n",
              "    </tr>\n",
              "  </tbody>\n",
              "</table>\n",
              "</div>"
            ],
            "text/plain": [
              "              Cost\n",
              "ds                \n",
              "2021-02-01  659.05\n",
              "2021-02-02  728.57\n",
              "2021-02-03  445.50\n",
              "2021-02-04  426.55\n",
              "2021-02-05  493.80\n",
              "2021-02-06  636.22\n",
              "2021-02-07  989.30"
            ]
          },
          "metadata": {
            "tags": []
          },
          "execution_count": 144
        }
      ]
    },
    {
      "cell_type": "code",
      "metadata": {
        "colab": {
          "base_uri": "https://localhost:8080/",
          "height": 238
        },
        "id": "gio-OIyFw5_l",
        "outputId": "9e37743f-e4a3-4a8a-f4f9-5801d8f1e4e5"
      },
      "source": [
        "m = Prophet()\n",
        "m.add_regressor('Cost')\n",
        "m.fit(positive)\n",
        "\n",
        "future = m.make_future_dataframe(periods=7)\n",
        "future=pd.merge(future,Cost_df, on='ds')\n",
        "future.tail()"
      ],
      "execution_count": 145,
      "outputs": [
        {
          "output_type": "stream",
          "text": [
            "INFO:fbprophet:Disabling yearly seasonality. Run prophet with yearly_seasonality=True to override this.\n",
            "INFO:fbprophet:Disabling daily seasonality. Run prophet with daily_seasonality=True to override this.\n"
          ],
          "name": "stderr"
        },
        {
          "output_type": "execute_result",
          "data": {
            "text/html": [
              "<div>\n",
              "<style scoped>\n",
              "    .dataframe tbody tr th:only-of-type {\n",
              "        vertical-align: middle;\n",
              "    }\n",
              "\n",
              "    .dataframe tbody tr th {\n",
              "        vertical-align: top;\n",
              "    }\n",
              "\n",
              "    .dataframe thead th {\n",
              "        text-align: right;\n",
              "    }\n",
              "</style>\n",
              "<table border=\"1\" class=\"dataframe\">\n",
              "  <thead>\n",
              "    <tr style=\"text-align: right;\">\n",
              "      <th></th>\n",
              "      <th>ds</th>\n",
              "      <th>Cost</th>\n",
              "    </tr>\n",
              "  </thead>\n",
              "  <tbody>\n",
              "    <tr>\n",
              "      <th>2</th>\n",
              "      <td>2021-02-03</td>\n",
              "      <td>445.50</td>\n",
              "    </tr>\n",
              "    <tr>\n",
              "      <th>3</th>\n",
              "      <td>2021-02-04</td>\n",
              "      <td>426.55</td>\n",
              "    </tr>\n",
              "    <tr>\n",
              "      <th>4</th>\n",
              "      <td>2021-02-05</td>\n",
              "      <td>493.80</td>\n",
              "    </tr>\n",
              "    <tr>\n",
              "      <th>5</th>\n",
              "      <td>2021-02-06</td>\n",
              "      <td>636.22</td>\n",
              "    </tr>\n",
              "    <tr>\n",
              "      <th>6</th>\n",
              "      <td>2021-02-07</td>\n",
              "      <td>989.30</td>\n",
              "    </tr>\n",
              "  </tbody>\n",
              "</table>\n",
              "</div>"
            ],
            "text/plain": [
              "          ds    Cost\n",
              "2 2021-02-03  445.50\n",
              "3 2021-02-04  426.55\n",
              "4 2021-02-05  493.80\n",
              "5 2021-02-06  636.22\n",
              "6 2021-02-07  989.30"
            ]
          },
          "metadata": {
            "tags": []
          },
          "execution_count": 145
        }
      ]
    },
    {
      "cell_type": "code",
      "metadata": {
        "colab": {
          "base_uri": "https://localhost:8080/",
          "height": 266
        },
        "id": "A4rsA3tB0pAQ",
        "outputId": "7e1c44c6-f131-4182-b502-ab068cfd5a86"
      },
      "source": [
        "forecast = m.predict(future)\n",
        "forecast[['ds', 'yhat', 'yhat_lower', 'yhat_upper']].tail(15)"
      ],
      "execution_count": 146,
      "outputs": [
        {
          "output_type": "execute_result",
          "data": {
            "text/html": [
              "<div>\n",
              "<style scoped>\n",
              "    .dataframe tbody tr th:only-of-type {\n",
              "        vertical-align: middle;\n",
              "    }\n",
              "\n",
              "    .dataframe tbody tr th {\n",
              "        vertical-align: top;\n",
              "    }\n",
              "\n",
              "    .dataframe thead th {\n",
              "        text-align: right;\n",
              "    }\n",
              "</style>\n",
              "<table border=\"1\" class=\"dataframe\">\n",
              "  <thead>\n",
              "    <tr style=\"text-align: right;\">\n",
              "      <th></th>\n",
              "      <th>ds</th>\n",
              "      <th>yhat</th>\n",
              "      <th>yhat_lower</th>\n",
              "      <th>yhat_upper</th>\n",
              "    </tr>\n",
              "  </thead>\n",
              "  <tbody>\n",
              "    <tr>\n",
              "      <th>0</th>\n",
              "      <td>2021-02-01</td>\n",
              "      <td>5619.388767</td>\n",
              "      <td>4409.522167</td>\n",
              "      <td>6912.530491</td>\n",
              "    </tr>\n",
              "    <tr>\n",
              "      <th>1</th>\n",
              "      <td>2021-02-02</td>\n",
              "      <td>6570.696262</td>\n",
              "      <td>5341.137567</td>\n",
              "      <td>7798.077281</td>\n",
              "    </tr>\n",
              "    <tr>\n",
              "      <th>2</th>\n",
              "      <td>2021-02-03</td>\n",
              "      <td>5691.495634</td>\n",
              "      <td>4474.715507</td>\n",
              "      <td>6906.797046</td>\n",
              "    </tr>\n",
              "    <tr>\n",
              "      <th>3</th>\n",
              "      <td>2021-02-04</td>\n",
              "      <td>5564.888272</td>\n",
              "      <td>4354.718327</td>\n",
              "      <td>6816.874210</td>\n",
              "    </tr>\n",
              "    <tr>\n",
              "      <th>4</th>\n",
              "      <td>2021-02-05</td>\n",
              "      <td>6466.421881</td>\n",
              "      <td>5270.482259</td>\n",
              "      <td>7625.083944</td>\n",
              "    </tr>\n",
              "    <tr>\n",
              "      <th>5</th>\n",
              "      <td>2021-02-06</td>\n",
              "      <td>8825.572849</td>\n",
              "      <td>7595.269536</td>\n",
              "      <td>10057.086440</td>\n",
              "    </tr>\n",
              "    <tr>\n",
              "      <th>6</th>\n",
              "      <td>2021-02-07</td>\n",
              "      <td>9739.090982</td>\n",
              "      <td>8560.628819</td>\n",
              "      <td>10906.065661</td>\n",
              "    </tr>\n",
              "  </tbody>\n",
              "</table>\n",
              "</div>"
            ],
            "text/plain": [
              "          ds         yhat   yhat_lower    yhat_upper\n",
              "0 2021-02-01  5619.388767  4409.522167   6912.530491\n",
              "1 2021-02-02  6570.696262  5341.137567   7798.077281\n",
              "2 2021-02-03  5691.495634  4474.715507   6906.797046\n",
              "3 2021-02-04  5564.888272  4354.718327   6816.874210\n",
              "4 2021-02-05  6466.421881  5270.482259   7625.083944\n",
              "5 2021-02-06  8825.572849  7595.269536  10057.086440\n",
              "6 2021-02-07  9739.090982  8560.628819  10906.065661"
            ]
          },
          "metadata": {
            "tags": []
          },
          "execution_count": 146
        }
      ]
    },
    {
      "cell_type": "code",
      "metadata": {
        "colab": {
          "base_uri": "https://localhost:8080/"
        },
        "id": "XA8YpFeY0xF2",
        "outputId": "df8f5581-60fd-4705-c727-f6f8370f5dd4"
      },
      "source": [
        "rmse = np.sqrt(mean_squared_error(test['y'],forecast ['yhat']))\n",
        "r2 = r2_score(test['y'],forecast ['yhat'])\n",
        "print(rmse)\n",
        "print(r2)"
      ],
      "execution_count": 147,
      "outputs": [
        {
          "output_type": "stream",
          "text": [
            "595.6218344311877\n",
            "0.7311372376551595\n"
          ],
          "name": "stdout"
        }
      ]
    },
    {
      "cell_type": "markdown",
      "metadata": {
        "id": "YDbsVIKb2Mj7"
      },
      "source": [
        "increasing cost\n"
      ]
    },
    {
      "cell_type": "markdown",
      "metadata": {
        "id": "HzSoAub12OTg"
      },
      "source": [
        ""
      ]
    },
    {
      "cell_type": "code",
      "metadata": {
        "colab": {
          "base_uri": "https://localhost:8080/",
          "height": 297
        },
        "id": "T5hYmTZt2RiP",
        "outputId": "388e7441-8654-40a7-c95f-ac645ea335b4"
      },
      "source": [
        "#creating future values for Cost\n",
        "\n",
        "\n",
        "future_range = pd.date_range('2021-02-01', periods=7, freq='D')\n",
        "Cost_df = pd.DataFrame({ 'ds': future_range, 'Cost' : 0})\n",
        "Cost_df['ds'] = pd.to_datetime(Cost_df['ds'])\n",
        "Cost_df = Cost_df.set_index('ds')\n",
        "Cost_df.at['2021-02-01', 'Cost'] = 1659.0500000000096\n",
        "Cost_df.at['2021-02-02', 'Cost'] = 1728.5700000000085\n",
        "Cost_df.at['2021-02-03', 'Cost'] = 1445.5000000000036\n",
        "Cost_df.at['2021-02-04', 'Cost'] = 1426.5500000000038\n",
        "Cost_df.at['2021-02-05', 'Cost'] = 1493.80000000000496\n",
        "Cost_df.at['2021-02-06', 'Cost'] = 1636.2200000000068\n",
        "Cost_df.at['2021-02-07', 'Cost'] = 1989.3000000000139\n",
        "\n",
        "Cost_df.tail(10)"
      ],
      "execution_count": 148,
      "outputs": [
        {
          "output_type": "execute_result",
          "data": {
            "text/html": [
              "<div>\n",
              "<style scoped>\n",
              "    .dataframe tbody tr th:only-of-type {\n",
              "        vertical-align: middle;\n",
              "    }\n",
              "\n",
              "    .dataframe tbody tr th {\n",
              "        vertical-align: top;\n",
              "    }\n",
              "\n",
              "    .dataframe thead th {\n",
              "        text-align: right;\n",
              "    }\n",
              "</style>\n",
              "<table border=\"1\" class=\"dataframe\">\n",
              "  <thead>\n",
              "    <tr style=\"text-align: right;\">\n",
              "      <th></th>\n",
              "      <th>Cost</th>\n",
              "    </tr>\n",
              "    <tr>\n",
              "      <th>ds</th>\n",
              "      <th></th>\n",
              "    </tr>\n",
              "  </thead>\n",
              "  <tbody>\n",
              "    <tr>\n",
              "      <th>2021-02-01</th>\n",
              "      <td>1659.05</td>\n",
              "    </tr>\n",
              "    <tr>\n",
              "      <th>2021-02-02</th>\n",
              "      <td>1728.57</td>\n",
              "    </tr>\n",
              "    <tr>\n",
              "      <th>2021-02-03</th>\n",
              "      <td>1445.50</td>\n",
              "    </tr>\n",
              "    <tr>\n",
              "      <th>2021-02-04</th>\n",
              "      <td>1426.55</td>\n",
              "    </tr>\n",
              "    <tr>\n",
              "      <th>2021-02-05</th>\n",
              "      <td>1493.80</td>\n",
              "    </tr>\n",
              "    <tr>\n",
              "      <th>2021-02-06</th>\n",
              "      <td>1636.22</td>\n",
              "    </tr>\n",
              "    <tr>\n",
              "      <th>2021-02-07</th>\n",
              "      <td>1989.30</td>\n",
              "    </tr>\n",
              "  </tbody>\n",
              "</table>\n",
              "</div>"
            ],
            "text/plain": [
              "               Cost\n",
              "ds                 \n",
              "2021-02-01  1659.05\n",
              "2021-02-02  1728.57\n",
              "2021-02-03  1445.50\n",
              "2021-02-04  1426.55\n",
              "2021-02-05  1493.80\n",
              "2021-02-06  1636.22\n",
              "2021-02-07  1989.30"
            ]
          },
          "metadata": {
            "tags": []
          },
          "execution_count": 148
        }
      ]
    },
    {
      "cell_type": "code",
      "metadata": {
        "colab": {
          "base_uri": "https://localhost:8080/",
          "height": 238
        },
        "id": "Ka76PuWF2Vm8",
        "outputId": "a259e78c-5c80-489f-977b-1665a848041e"
      },
      "source": [
        "m = Prophet()\n",
        "m.add_regressor('Cost')\n",
        "m.fit(positive)\n",
        "\n",
        "future = m.make_future_dataframe(periods=7)\n",
        "future=pd.merge(future,Cost_df, on='ds')\n",
        "future.tail()"
      ],
      "execution_count": 149,
      "outputs": [
        {
          "output_type": "stream",
          "text": [
            "INFO:fbprophet:Disabling yearly seasonality. Run prophet with yearly_seasonality=True to override this.\n",
            "INFO:fbprophet:Disabling daily seasonality. Run prophet with daily_seasonality=True to override this.\n"
          ],
          "name": "stderr"
        },
        {
          "output_type": "execute_result",
          "data": {
            "text/html": [
              "<div>\n",
              "<style scoped>\n",
              "    .dataframe tbody tr th:only-of-type {\n",
              "        vertical-align: middle;\n",
              "    }\n",
              "\n",
              "    .dataframe tbody tr th {\n",
              "        vertical-align: top;\n",
              "    }\n",
              "\n",
              "    .dataframe thead th {\n",
              "        text-align: right;\n",
              "    }\n",
              "</style>\n",
              "<table border=\"1\" class=\"dataframe\">\n",
              "  <thead>\n",
              "    <tr style=\"text-align: right;\">\n",
              "      <th></th>\n",
              "      <th>ds</th>\n",
              "      <th>Cost</th>\n",
              "    </tr>\n",
              "  </thead>\n",
              "  <tbody>\n",
              "    <tr>\n",
              "      <th>2</th>\n",
              "      <td>2021-02-03</td>\n",
              "      <td>1445.50</td>\n",
              "    </tr>\n",
              "    <tr>\n",
              "      <th>3</th>\n",
              "      <td>2021-02-04</td>\n",
              "      <td>1426.55</td>\n",
              "    </tr>\n",
              "    <tr>\n",
              "      <th>4</th>\n",
              "      <td>2021-02-05</td>\n",
              "      <td>1493.80</td>\n",
              "    </tr>\n",
              "    <tr>\n",
              "      <th>5</th>\n",
              "      <td>2021-02-06</td>\n",
              "      <td>1636.22</td>\n",
              "    </tr>\n",
              "    <tr>\n",
              "      <th>6</th>\n",
              "      <td>2021-02-07</td>\n",
              "      <td>1989.30</td>\n",
              "    </tr>\n",
              "  </tbody>\n",
              "</table>\n",
              "</div>"
            ],
            "text/plain": [
              "          ds     Cost\n",
              "2 2021-02-03  1445.50\n",
              "3 2021-02-04  1426.55\n",
              "4 2021-02-05  1493.80\n",
              "5 2021-02-06  1636.22\n",
              "6 2021-02-07  1989.30"
            ]
          },
          "metadata": {
            "tags": []
          },
          "execution_count": 149
        }
      ]
    },
    {
      "cell_type": "code",
      "metadata": {
        "colab": {
          "base_uri": "https://localhost:8080/",
          "height": 266
        },
        "id": "Eah6w5e92ZUD",
        "outputId": "fb35f1e2-64f7-4bb4-b80b-a7740b8634b8"
      },
      "source": [
        "forecast = m.predict(future)\n",
        "forecast[['ds', 'yhat', 'yhat_lower', 'yhat_upper']].tail(15)"
      ],
      "execution_count": 150,
      "outputs": [
        {
          "output_type": "execute_result",
          "data": {
            "text/html": [
              "<div>\n",
              "<style scoped>\n",
              "    .dataframe tbody tr th:only-of-type {\n",
              "        vertical-align: middle;\n",
              "    }\n",
              "\n",
              "    .dataframe tbody tr th {\n",
              "        vertical-align: top;\n",
              "    }\n",
              "\n",
              "    .dataframe thead th {\n",
              "        text-align: right;\n",
              "    }\n",
              "</style>\n",
              "<table border=\"1\" class=\"dataframe\">\n",
              "  <thead>\n",
              "    <tr style=\"text-align: right;\">\n",
              "      <th></th>\n",
              "      <th>ds</th>\n",
              "      <th>yhat</th>\n",
              "      <th>yhat_lower</th>\n",
              "      <th>yhat_upper</th>\n",
              "    </tr>\n",
              "  </thead>\n",
              "  <tbody>\n",
              "    <tr>\n",
              "      <th>0</th>\n",
              "      <td>2021-02-01</td>\n",
              "      <td>10622.905675</td>\n",
              "      <td>9450.600845</td>\n",
              "      <td>11763.814331</td>\n",
              "    </tr>\n",
              "    <tr>\n",
              "      <th>1</th>\n",
              "      <td>2021-02-02</td>\n",
              "      <td>11574.213170</td>\n",
              "      <td>10346.808717</td>\n",
              "      <td>12781.514902</td>\n",
              "    </tr>\n",
              "    <tr>\n",
              "      <th>2</th>\n",
              "      <td>2021-02-03</td>\n",
              "      <td>10695.012542</td>\n",
              "      <td>9582.518999</td>\n",
              "      <td>11858.486137</td>\n",
              "    </tr>\n",
              "    <tr>\n",
              "      <th>3</th>\n",
              "      <td>2021-02-04</td>\n",
              "      <td>10568.405179</td>\n",
              "      <td>9357.106759</td>\n",
              "      <td>11767.223345</td>\n",
              "    </tr>\n",
              "    <tr>\n",
              "      <th>4</th>\n",
              "      <td>2021-02-05</td>\n",
              "      <td>11469.938789</td>\n",
              "      <td>10359.423769</td>\n",
              "      <td>12694.204861</td>\n",
              "    </tr>\n",
              "    <tr>\n",
              "      <th>5</th>\n",
              "      <td>2021-02-06</td>\n",
              "      <td>13829.089757</td>\n",
              "      <td>12679.170241</td>\n",
              "      <td>14949.507848</td>\n",
              "    </tr>\n",
              "    <tr>\n",
              "      <th>6</th>\n",
              "      <td>2021-02-07</td>\n",
              "      <td>14742.607890</td>\n",
              "      <td>13466.036508</td>\n",
              "      <td>15827.241454</td>\n",
              "    </tr>\n",
              "  </tbody>\n",
              "</table>\n",
              "</div>"
            ],
            "text/plain": [
              "          ds          yhat    yhat_lower    yhat_upper\n",
              "0 2021-02-01  10622.905675   9450.600845  11763.814331\n",
              "1 2021-02-02  11574.213170  10346.808717  12781.514902\n",
              "2 2021-02-03  10695.012542   9582.518999  11858.486137\n",
              "3 2021-02-04  10568.405179   9357.106759  11767.223345\n",
              "4 2021-02-05  11469.938789  10359.423769  12694.204861\n",
              "5 2021-02-06  13829.089757  12679.170241  14949.507848\n",
              "6 2021-02-07  14742.607890  13466.036508  15827.241454"
            ]
          },
          "metadata": {
            "tags": []
          },
          "execution_count": 150
        }
      ]
    }
  ]
}